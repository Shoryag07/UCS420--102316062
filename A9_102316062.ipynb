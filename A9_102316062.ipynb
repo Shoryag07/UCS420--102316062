{
  "nbformat": 4,
  "nbformat_minor": 0,
  "metadata": {
    "colab": {
      "provenance": []
    },
    "kernelspec": {
      "name": "python3",
      "display_name": "Python 3"
    },
    "language_info": {
      "name": "python"
    }
  },
  "cells": [
    {
      "cell_type": "markdown",
      "source": [
        "Q1. Write a unique paragraph (5-6 sentences) about your favorite topic (e.g., sports,\n",
        "technology, food, books, etc.).\n",
        "1. Convert text to lowercase and remove punctuation.\n",
        "\n"
      ],
      "metadata": {
        "id": "ZJ-HSUL9zorK"
      }
    },
    {
      "cell_type": "code",
      "source": [
        "import nltk\n",
        "import string\n",
        "import re\n",
        "paragraph = \"\"\"\n",
        "Association football, more commnly known as footbll or soccer, is a team sport played between two teams of 11 players who almost exclusively use their feet to propel a ball around a rectangular field called a pitch. The objective of the game is to score more goals than the opposing team by moving the ball beyond the goal line into a rectangular-framed goal defended by the opposing team. Traditionally, the game has been played over two 45-minute halves, for a total match time of 90 minutes. With an estimated 250 million players active in over 200 countries and territories, it is the world's most popular sport.\n",
        "\"\"\"\n",
        "# Convert to lowercase\n",
        "text = paragraph.lower()\n",
        "# Remove punctuation using regex\n",
        "text = re.sub(r'[^\\w\\s]', '', text)\n",
        "print(text)"
      ],
      "metadata": {
        "colab": {
          "base_uri": "https://localhost:8080/"
        },
        "id": "_9oXveeozith",
        "outputId": "ecff4d0c-6540-4b35-b4d0-de020d57da5f"
      },
      "execution_count": 3,
      "outputs": [
        {
          "output_type": "stream",
          "name": "stdout",
          "text": [
            "\n",
            "association football more commnly known as footbll or soccer is a team sport played between two teams of 11 players who almost exclusively use their feet to propel a ball around a rectangular field called a pitch the objective of the game is to score more goals than the opposing team by moving the ball beyond the goal line into a rectangularframed goal defended by the opposing team traditionally the game has been played over two 45minute halves for a total match time of 90 minutes with an estimated 250 million players active in over 200 countries and territories it is the worlds most popular sport\n",
            "\n"
          ]
        }
      ]
    },
    {
      "cell_type": "markdown",
      "source": [
        "2. Tokenize the text into words and sentences.\n"
      ],
      "metadata": {
        "id": "aY0bH16c0AxO"
      }
    },
    {
      "cell_type": "code",
      "source": [
        "from nltk.tokenize import word_tokenize, sent_tokenize\n",
        "words = word_tokenize(paragraph)\n",
        "sentences = sent_tokenize(paragraph)\n",
        "print(\"Tokenized Sentences:\", sentences)\n",
        "print(\"Tokenized Words:\", words)\n"
      ],
      "metadata": {
        "colab": {
          "base_uri": "https://localhost:8080/"
        },
        "id": "Zdxlf4nz0CYn",
        "outputId": "f1f49417-d2a6-455d-beb0-bed83fc03bad"
      },
      "execution_count": 8,
      "outputs": [
        {
          "output_type": "stream",
          "name": "stdout",
          "text": [
            "Tokenized Sentences: ['\\nAssociation football, more commnly known as footbll or soccer, is a team sport played between two teams of 11 players who almost exclusively use their feet to propel a ball around a rectangular field called a pitch.', 'The objective of the game is to score more goals than the opposing team by moving the ball beyond the goal line into a rectangular-framed goal defended by the opposing team.', 'Traditionally, the game has been played over two 45-minute halves, for a total match time of 90 minutes.', \"With an estimated 250 million players active in over 200 countries and territories, it is the world's most popular sport.\"]\n",
            "Tokenized Words: ['Association', 'football', ',', 'more', 'commnly', 'known', 'as', 'footbll', 'or', 'soccer', ',', 'is', 'a', 'team', 'sport', 'played', 'between', 'two', 'teams', 'of', '11', 'players', 'who', 'almost', 'exclusively', 'use', 'their', 'feet', 'to', 'propel', 'a', 'ball', 'around', 'a', 'rectangular', 'field', 'called', 'a', 'pitch', '.', 'The', 'objective', 'of', 'the', 'game', 'is', 'to', 'score', 'more', 'goals', 'than', 'the', 'opposing', 'team', 'by', 'moving', 'the', 'ball', 'beyond', 'the', 'goal', 'line', 'into', 'a', 'rectangular-framed', 'goal', 'defended', 'by', 'the', 'opposing', 'team', '.', 'Traditionally', ',', 'the', 'game', 'has', 'been', 'played', 'over', 'two', '45-minute', 'halves', ',', 'for', 'a', 'total', 'match', 'time', 'of', '90', 'minutes', '.', 'With', 'an', 'estimated', '250', 'million', 'players', 'active', 'in', 'over', '200', 'countries', 'and', 'territories', ',', 'it', 'is', 'the', 'world', \"'s\", 'most', 'popular', 'sport', '.']\n"
          ]
        }
      ]
    },
    {
      "cell_type": "markdown",
      "source": [
        "3. Remove stopwords (using NLTK's stopwords list)."
      ],
      "metadata": {
        "id": "G1wdwQjS0DVY"
      }
    },
    {
      "cell_type": "code",
      "source": [
        "from nltk.corpus import stopwords\n",
        "stop_words = set(stopwords.words(\"english\"))\n",
        "filtered_words = [word for word in words if word not in stop_words]\n",
        "print(\"\\nFiltered Words:\", filtered_words)"
      ],
      "metadata": {
        "colab": {
          "base_uri": "https://localhost:8080/"
        },
        "id": "pB4HmR1y0EyT",
        "outputId": "856fcdd0-a413-424e-85b8-e05accb6a80c"
      },
      "execution_count": 11,
      "outputs": [
        {
          "output_type": "stream",
          "name": "stdout",
          "text": [
            "\n",
            "Filtered Words: ['Association', 'football', ',', 'commnly', 'known', 'footbll', 'soccer', ',', 'team', 'sport', 'played', 'two', 'teams', '11', 'players', 'almost', 'exclusively', 'use', 'feet', 'propel', 'ball', 'around', 'rectangular', 'field', 'called', 'pitch', '.', 'The', 'objective', 'game', 'score', 'goals', 'opposing', 'team', 'moving', 'ball', 'beyond', 'goal', 'line', 'rectangular-framed', 'goal', 'defended', 'opposing', 'team', '.', 'Traditionally', ',', 'game', 'played', 'two', '45-minute', 'halves', ',', 'total', 'match', 'time', '90', 'minutes', '.', 'With', 'estimated', '250', 'million', 'players', 'active', '200', 'countries', 'territories', ',', 'world', \"'s\", 'popular', 'sport', '.']\n"
          ]
        }
      ]
    },
    {
      "cell_type": "markdown",
      "source": [
        "4. Display word frequency distribution (excluding stopwords).\n"
      ],
      "metadata": {
        "id": "x33cHOMEGoYS"
      }
    },
    {
      "cell_type": "code",
      "source": [
        "from nltk.probability import FreqDist\n",
        "freq_dist = FreqDist(filtered_words)\n",
        "print(\"\\nFrequency Distribution:\")\n",
        "for word, freq in freq_dist.items():\n",
        "    print(f\"{word}: {freq}\")"
      ],
      "metadata": {
        "colab": {
          "base_uri": "https://localhost:8080/"
        },
        "id": "TglXHgcJF-O7",
        "outputId": "b4324cd0-9948-4c04-8387-afd6daf0aee5"
      },
      "execution_count": 12,
      "outputs": [
        {
          "output_type": "stream",
          "name": "stdout",
          "text": [
            "\n",
            "Frequency Distribution:\n",
            "Association: 1\n",
            "football: 1\n",
            ",: 5\n",
            "commnly: 1\n",
            "known: 1\n",
            "footbll: 1\n",
            "soccer: 1\n",
            "team: 3\n",
            "sport: 2\n",
            "played: 2\n",
            "two: 2\n",
            "teams: 1\n",
            "11: 1\n",
            "players: 2\n",
            "almost: 1\n",
            "exclusively: 1\n",
            "use: 1\n",
            "feet: 1\n",
            "propel: 1\n",
            "ball: 2\n",
            "around: 1\n",
            "rectangular: 1\n",
            "field: 1\n",
            "called: 1\n",
            "pitch: 1\n",
            ".: 4\n",
            "The: 1\n",
            "objective: 1\n",
            "game: 2\n",
            "score: 1\n",
            "goals: 1\n",
            "opposing: 2\n",
            "moving: 1\n",
            "beyond: 1\n",
            "goal: 2\n",
            "line: 1\n",
            "rectangular-framed: 1\n",
            "defended: 1\n",
            "Traditionally: 1\n",
            "45-minute: 1\n",
            "halves: 1\n",
            "total: 1\n",
            "match: 1\n",
            "time: 1\n",
            "90: 1\n",
            "minutes: 1\n",
            "With: 1\n",
            "estimated: 1\n",
            "250: 1\n",
            "million: 1\n",
            "active: 1\n",
            "200: 1\n",
            "countries: 1\n",
            "territories: 1\n",
            "world: 1\n",
            "'s: 1\n",
            "popular: 1\n"
          ]
        }
      ]
    },
    {
      "cell_type": "markdown",
      "source": [
        "Q2: Stemming and Lemmatization\n",
        "1. Take the tokenized words from Question 1 (after stopword removal).\n",
        "2. Apply stemming using NLTK's PorterStemmer and LancasterStemmer.\n",
        "3. Apply lemmaƟzaƟon using NLTK's WordNetLemmaƟzer.\n",
        "4. Compare and display results of both techniques."
      ],
      "metadata": {
        "id": "n2WBxzx5GqXS"
      }
    },
    {
      "cell_type": "code",
      "source": [
        "from nltk.stem import PorterStemmer, LancasterStemmer, WordNetLemmatizer\n",
        "nltk.download('omw-1.4')\n",
        "porter = PorterStemmer()\n",
        "lancaster = LancasterStemmer()\n",
        "lemmatizer = WordNetLemmatizer()\n",
        "\n",
        "print(\"\\nWord | Porter | Lancaster | Lemma\")\n",
        "for word in filtered_words[::]:  # just first 20 for brevity\n",
        "    print(f\"{word} | {porter.stem(word)} | {lancaster.stem(word)} | {lemmatizer.lemmatize(word)}\")\n"
      ],
      "metadata": {
        "colab": {
          "base_uri": "https://localhost:8080/"
        },
        "id": "6iy4QkOEGs-T",
        "outputId": "7a5063ed-da5d-4581-9b97-65f07a179d0c"
      },
      "execution_count": 15,
      "outputs": [
        {
          "output_type": "stream",
          "name": "stderr",
          "text": [
            "[nltk_data] Downloading package omw-1.4 to /root/nltk_data...\n"
          ]
        },
        {
          "output_type": "stream",
          "name": "stdout",
          "text": [
            "\n",
            "Word | Porter | Lancaster | Lemma\n",
            "Association | associ | assocy | Association\n",
            "football | footbal | footbal | football\n",
            ", | , | , | ,\n",
            "commnly | commnli | commn | commnly\n",
            "known | known | known | known\n",
            "footbll | footbll | footbl | footbll\n",
            "soccer | soccer | socc | soccer\n",
            ", | , | , | ,\n",
            "team | team | team | team\n",
            "sport | sport | sport | sport\n",
            "played | play | play | played\n",
            "two | two | two | two\n",
            "teams | team | team | team\n",
            "11 | 11 | 11 | 11\n",
            "players | player | play | player\n",
            "almost | almost | almost | almost\n",
            "exclusively | exclus | exclud | exclusively\n",
            "use | use | us | use\n",
            "feet | feet | feet | foot\n",
            "propel | propel | propel | propel\n",
            "ball | ball | bal | ball\n",
            "around | around | around | around\n",
            "rectangular | rectangular | rectangul | rectangular\n",
            "field | field | field | field\n",
            "called | call | cal | called\n",
            "pitch | pitch | pitch | pitch\n",
            ". | . | . | .\n",
            "The | the | the | The\n",
            "objective | object | object | objective\n",
            "game | game | gam | game\n",
            "score | score | scor | score\n",
            "goals | goal | goal | goal\n",
            "opposing | oppos | oppos | opposing\n",
            "team | team | team | team\n",
            "moving | move | mov | moving\n",
            "ball | ball | bal | ball\n",
            "beyond | beyond | beyond | beyond\n",
            "goal | goal | goal | goal\n",
            "line | line | lin | line\n",
            "rectangular-framed | rectangular-fram | rectangular-framed | rectangular-framed\n",
            "goal | goal | goal | goal\n",
            "defended | defend | defend | defended\n",
            "opposing | oppos | oppos | opposing\n",
            "team | team | team | team\n",
            ". | . | . | .\n",
            "Traditionally | tradit | tradit | Traditionally\n",
            ", | , | , | ,\n",
            "game | game | gam | game\n",
            "played | play | play | played\n",
            "two | two | two | two\n",
            "45-minute | 45-minut | 45-minute | 45-minute\n",
            "halves | halv | halv | half\n",
            ", | , | , | ,\n",
            "total | total | tot | total\n",
            "match | match | match | match\n",
            "time | time | tim | time\n",
            "90 | 90 | 90 | 90\n",
            "minutes | minut | minut | minute\n",
            ". | . | . | .\n",
            "With | with | with | With\n",
            "estimated | estim | estim | estimated\n",
            "250 | 250 | 250 | 250\n",
            "million | million | mil | million\n",
            "players | player | play | player\n",
            "active | activ | act | active\n",
            "200 | 200 | 200 | 200\n",
            "countries | countri | country | country\n",
            "territories | territori | territ | territory\n",
            ", | , | , | ,\n",
            "world | world | world | world\n",
            "'s | 's | 's | 's\n",
            "popular | popular | popul | popular\n",
            "sport | sport | sport | sport\n",
            ". | . | . | .\n"
          ]
        }
      ]
    },
    {
      "cell_type": "markdown",
      "source": [
        "Q3. Regular Expressions and Text Spliƫng\n",
        "1. Take their original text from Question 1.\n",
        "2. Use regular expressions to:\n",
        "a. Extract all words with more than 5 leƩers.\n",
        "b. Extract all numbers (if any exist in their text).\n",
        "c. Extract all capitalized words.\n",
        "3. Use text spliƫng techniques to:\n",
        "a. Split the text into words containing only alphabets (removing digits and special\n",
        "characters).\n",
        "b. Extract words starƟng with a vowel.\n"
      ],
      "metadata": {
        "id": "iEFZhfnENJqq"
      }
    },
    {
      "cell_type": "code",
      "source": [
        "import re\n",
        "\n",
        "# a. Words with more than 5 letters\n",
        "long_words = re.findall(r'\\b\\w{6,}\\b', paragraph)\n",
        "\n",
        "# b. Numbers\n",
        "numbers = re.findall(r'\\b\\d+\\b', paragraph)\n",
        "\n",
        "# c. Capitalized words\n",
        "capitalized = re.findall(r'\\b[A-Z][a-z]*\\b', paragraph)\n",
        "\n",
        "# d. Alphabet-only words\n",
        "alpha_words = re.findall(r'\\b[a-zA-Z]+\\b', paragraph)\n",
        "\n",
        "# e. Words starting with a vowel\n",
        "vowel_words = [word for word in alpha_words if word[0].lower() in 'aeiou']\n",
        "\n",
        "print(\"Words >5 letters:\", long_words)\n",
        "print(\"Numbers:\", numbers)\n",
        "print(\"Capitalized:\", capitalized)\n",
        "print(\"Alphabet-only words:\", alpha_words)\n",
        "print(\"Words starting with vowel:\", vowel_words)\n"
      ],
      "metadata": {
        "colab": {
          "base_uri": "https://localhost:8080/"
        },
        "id": "b0GXyWKnMhgz",
        "outputId": "defe9422-5577-4bf2-f2ca-0a608e49f485"
      },
      "execution_count": 16,
      "outputs": [
        {
          "output_type": "stream",
          "name": "stdout",
          "text": [
            "Words >5 letters: ['Association', 'football', 'commnly', 'footbll', 'soccer', 'played', 'between', 'players', 'almost', 'exclusively', 'propel', 'around', 'rectangular', 'called', 'objective', 'opposing', 'moving', 'beyond', 'rectangular', 'framed', 'defended', 'opposing', 'Traditionally', 'played', 'minute', 'halves', 'minutes', 'estimated', 'million', 'players', 'active', 'countries', 'territories', 'popular']\n",
            "Numbers: ['11', '45', '90', '250', '200']\n",
            "Capitalized: ['Association', 'The', 'Traditionally', 'With']\n",
            "Alphabet-only words: ['Association', 'football', 'more', 'commnly', 'known', 'as', 'footbll', 'or', 'soccer', 'is', 'a', 'team', 'sport', 'played', 'between', 'two', 'teams', 'of', 'players', 'who', 'almost', 'exclusively', 'use', 'their', 'feet', 'to', 'propel', 'a', 'ball', 'around', 'a', 'rectangular', 'field', 'called', 'a', 'pitch', 'The', 'objective', 'of', 'the', 'game', 'is', 'to', 'score', 'more', 'goals', 'than', 'the', 'opposing', 'team', 'by', 'moving', 'the', 'ball', 'beyond', 'the', 'goal', 'line', 'into', 'a', 'rectangular', 'framed', 'goal', 'defended', 'by', 'the', 'opposing', 'team', 'Traditionally', 'the', 'game', 'has', 'been', 'played', 'over', 'two', 'minute', 'halves', 'for', 'a', 'total', 'match', 'time', 'of', 'minutes', 'With', 'an', 'estimated', 'million', 'players', 'active', 'in', 'over', 'countries', 'and', 'territories', 'it', 'is', 'the', 'world', 's', 'most', 'popular', 'sport']\n",
            "Words starting with vowel: ['Association', 'as', 'or', 'is', 'a', 'of', 'almost', 'exclusively', 'use', 'a', 'around', 'a', 'a', 'objective', 'of', 'is', 'opposing', 'into', 'a', 'opposing', 'over', 'a', 'of', 'an', 'estimated', 'active', 'in', 'over', 'and', 'it', 'is']\n"
          ]
        }
      ]
    },
    {
      "cell_type": "markdown",
      "source": [
        "Q4. Custom TokenizaƟon & Regex-based Text Cleaning\n",
        "1. Take original text from Question 1.\n",
        "2. Write a custom tokenizaƟon function that:\n",
        "a. Removes punctuaƟon and special symbols, but keeps contracƟons (e.g.,\n",
        "\"isn't\" should not be split into \"is\" and \"n't\").\n",
        "b. Handles hyphenated words as a single token (e.g., \"state-of-the-art\" remains\n",
        "a single token).\n",
        "c. Tokenizes numbers separately but keeps decimal numbers intact (e.g., \"3.14\"\n",
        "should remain as is).\n",
        "3. Use Regex SubsƟtuƟons (re.sub) to:\n",
        "a. Replace email addresses with '<EMAIL>' placeholder.\n",
        "b. Replace URLs with '<URL>' placeholder.\n",
        "c. Replace phone numbers (formats: 123-456-7890 or +91 9876543210) with\n",
        "'<PHONE>' placeholder."
      ],
      "metadata": {
        "id": "IiOAzo-2V-_m"
      }
    },
    {
      "cell_type": "code",
      "source": [
        "def custom_tokenize(text):\n",
        "    # Keep hyphenated, decimal numbers, and contractions\n",
        "    pattern = r\"\\b\\w+(?:[-']\\w+)*\\.?\\w*\\b|\\d+\\.\\d+\"\n",
        "    return re.findall(pattern, text)\n",
        "\n",
        "# Test input\n",
        "text = \"Contact us at example-email@gmail.com, or visit https://example.com. Call +91 9876543210. Price: 3.14 dollars for a state-of-the-art product that isn't bad.\"\n",
        "\n",
        "tokens = custom_tokenize(text)\n",
        "\n",
        "# Substitutions\n",
        "cleaned_text = re.sub(r'\\b[\\w\\.-]+@[\\w\\.-]+\\.\\w+\\b', '<EMAIL>', text)\n",
        "cleaned_text = re.sub(r'https?://\\S+|www\\.\\S+', '<URL>', cleaned_text)\n",
        "cleaned_text = re.sub(r'(\\+91\\s\\d{10}|\\d{3}-\\d{3}-\\d{4})', '<PHONE>', cleaned_text)\n",
        "\n",
        "print(\"Custom Tokens:\", tokens)\n",
        "print(\"\\nCleaned Text:\", cleaned_text)\n"
      ],
      "metadata": {
        "colab": {
          "base_uri": "https://localhost:8080/"
        },
        "id": "iY1FedoMV-yq",
        "outputId": "0d8d5732-99be-4dcf-c42e-1333da130689"
      },
      "execution_count": 17,
      "outputs": [
        {
          "output_type": "stream",
          "name": "stdout",
          "text": [
            "Custom Tokens: ['Contact', 'us', 'at', 'example-email', 'gmail.com', 'or', 'visit', 'https', 'example.com', 'Call', '91', '9876543210', 'Price', '3.14', 'dollars', 'for', 'a', 'state-of-the-art', 'product', 'that', \"isn't\", 'bad']\n",
            "\n",
            "Cleaned Text: Contact us at <EMAIL>, or visit <URL> Call <PHONE>. Price: 3.14 dollars for a state-of-the-art product that isn't bad.\n"
          ]
        }
      ]
    }
  ]
}