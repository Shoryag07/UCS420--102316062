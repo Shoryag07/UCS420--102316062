{
  "cells": [
    {
      "cell_type": "markdown",
      "id": "9aa15841-f468-476c-a000-b73f0c89aa82",
      "metadata": {
        "id": "9aa15841-f468-476c-a000-b73f0c89aa82"
      },
      "source": [
        "# Deploy a Cognitive Systems or Chatbot for healthcare applications."
      ]
    },
    {
      "cell_type": "markdown",
      "id": "5a6bcb69-287a-4dea-a27b-7c252c80e781",
      "metadata": {
        "id": "5a6bcb69-287a-4dea-a27b-7c252c80e781"
      },
      "source": [
        "## conversation data"
      ]
    },
    {
      "cell_type": "code",
      "execution_count": 1,
      "id": "a0a5e241-adbc-465e-ba54-d07e010fa8f9",
      "metadata": {
        "id": "a0a5e241-adbc-465e-ba54-d07e010fa8f9"
      },
      "outputs": [],
      "source": [
        "conversation = [\n",
        "    'Hi',\n",
        "    'Hello! I am HealthBot. How can I assist you today?',\n",
        "    'Hello',\n",
        "    'Hi! Do you have a health-related question?',\n",
        "    'I have a headache',\n",
        "    'You should rest, stay hydrated, and take a mild pain reliever if needed.',\n",
        "    'What should I do if I have a fever?',\n",
        "    'Drink plenty of fluids and rest. If the fever persists, please consult a doctor.',\n",
        "    'I feel dizzy',\n",
        "    'Sit down, breathe deeply, and drink water. If it continues, seek medical help.',\n",
        "    'What should I eat for a cold?',\n",
        "    'Warm fluids, soups, citrus fruits, and light meals help during a cold.',\n",
        "    'How to stay healthy?',\n",
        "    'Eat balanced meals, exercise regularly, stay hydrated, and get enough sleep.',\n",
        "    'What should I do in case of a cut?',\n",
        "    'Clean the wound with water, apply antiseptic, and cover it with a clean bandage.',\n",
        "    'How much water should I drink daily?',\n",
        "    'Generally, 2 to 3 liters per day is recommended, but it varies based on your activity.',\n",
        "    'Thank you',\n",
        "    'You’re welcome! Take care.',\n",
        "    'Bye',\n",
        "    'Goodbye! Stay healthy.'\n",
        "]"
      ]
    },
    {
      "cell_type": "code",
      "execution_count": 4,
      "id": "8343e3f3",
      "metadata": {
        "id": "8343e3f3"
      },
      "outputs": [],
      "source": [
        "from chatterbot import ChatBot\n",
        "from chatterbot.trainers import ListTrainer"
      ]
    },
    {
      "cell_type": "markdown",
      "id": "dbfedc3c-7a3f-47f4-b320-63c68e57cce1",
      "metadata": {
        "id": "dbfedc3c-7a3f-47f4-b320-63c68e57cce1"
      },
      "source": [
        "### health bot"
      ]
    },
    {
      "cell_type": "code",
      "execution_count": 5,
      "id": "c4715dd0-e1da-4204-907c-63f98222d3be",
      "metadata": {
        "colab": {
          "base_uri": "https://localhost:8080/"
        },
        "id": "c4715dd0-e1da-4204-907c-63f98222d3be",
        "outputId": "a5884102-e27a-4ead-86a9-d12873d4174d"
      },
      "outputs": [
        {
          "output_type": "stream",
          "name": "stderr",
          "text": [
            "List Trainer: 22it [00:00, 334.06it/s]\n"
          ]
        }
      ],
      "source": [
        "health_bot = ChatBot(\n",
        "    'HealthBot',\n",
        "    read_only=True,\n",
        "    logic_adapters=[\n",
        "        'chatterbot.logic.BestMatch'\n",
        "    ]\n",
        ")\n",
        "trainer = ListTrainer(health_bot)\n",
        "trainer.train(conversation)"
      ]
    },
    {
      "cell_type": "markdown",
      "id": "f74ea802-3c40-48f9-8264-a9ac07d3e125",
      "metadata": {
        "id": "f74ea802-3c40-48f9-8264-a9ac07d3e125"
      },
      "source": [
        "## trainig"
      ]
    },
    {
      "cell_type": "code",
      "execution_count": 7,
      "id": "d5170a11-b4e5-43f3-a610-75259a53a162",
      "metadata": {
        "colab": {
          "base_uri": "https://localhost:8080/"
        },
        "id": "d5170a11-b4e5-43f3-a610-75259a53a162",
        "outputId": "f872b07f-16f1-441c-98d0-f31169d82517"
      },
      "outputs": [
        {
          "output_type": "stream",
          "name": "stdout",
          "text": [
            "Talk to HealthBot (type 'exit' to quit):\n",
            "You: hi\n",
            "HealthBot: Hello! I am HealthBot. How can I assist you today?\n",
            "You: hello\n",
            "HealthBot: Hi! Do you have a health-related question?\n",
            "You: i have a headache\n",
            "HealthBot: You should rest, stay hydrated, and take a mild pain reliever if needed.\n",
            "You: bye\n",
            "HealthBot: Goodbye! Stay healthy.\n"
          ]
        }
      ],
      "source": [
        "print(\"Talk to HealthBot (type 'exit' to quit):\")\n",
        "while True:\n",
        "    query = input(\"You: \")\n",
        "    if query.lower() == 'bye':\n",
        "        print(\"HealthBot: Goodbye! Stay healthy.\")\n",
        "        break\n",
        "    response = health_bot.get_response(query)\n",
        "    print(f\"HealthBot: {response}\")"
      ]
    }
  ],
  "metadata": {
    "kernelspec": {
      "display_name": "Python 3",
      "language": "python",
      "name": "python3"
    },
    "language_info": {
      "codemirror_mode": {
        "name": "ipython",
        "version": 3
      },
      "file_extension": ".py",
      "mimetype": "text/x-python",
      "name": "python",
      "nbconvert_exporter": "python",
      "pygments_lexer": "ipython3",
      "version": "3.12.4"
    },
    "colab": {
      "provenance": []
    }
  },
  "nbformat": 4,
  "nbformat_minor": 5
}