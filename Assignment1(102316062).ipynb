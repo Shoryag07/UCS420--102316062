{
  "nbformat": 4,
  "nbformat_minor": 0,
  "metadata": {
    "colab": {
      "provenance": []
    },
    "kernelspec": {
      "name": "python3",
      "display_name": "Python 3"
    },
    "language_info": {
      "name": "python"
    }
  },
  "cells": [
    {
      "cell_type": "code",
      "execution_count": 2,
      "metadata": {
        "colab": {
          "base_uri": "https://localhost:8080/"
        },
        "id": "mkTj2qRgo5mh",
        "outputId": "518945c7-29fd-4f84-a2e6-52dec988de8e"
      },
      "outputs": [
        {
          "output_type": "stream",
          "name": "stdout",
          "text": [
            "Shorya\n",
            "Shorya\n",
            "Shorya\n"
          ]
        }
      ],
      "source": [
        "#1.1: WAP to print your name three times\n",
        "\n",
        "print(\"Shorya\")\n",
        "print(\"Shorya\")\n",
        "print(\"Shorya\")\n"
      ]
    },
    {
      "cell_type": "code",
      "source": [
        "#2.1:WAP to add three numbers and print the result.\n",
        "\n",
        "a=10\n",
        "b=20\n",
        "c=90\n",
        "print(a+b+c)\n"
      ],
      "metadata": {
        "colab": {
          "base_uri": "https://localhost:8080/"
        },
        "id": "ZMkgyqmVpCUZ",
        "outputId": "5ecf6fb3-5b95-4b90-800d-d2bee63c6490"
      },
      "execution_count": 3,
      "outputs": [
        {
          "output_type": "stream",
          "name": "stdout",
          "text": [
            "120\n"
          ]
        }
      ]
    },
    {
      "cell_type": "code",
      "source": [
        "#2.2: WAP to concatinate three strings and print the result.\n",
        "\n",
        "a=\"SH\"\n",
        "b=\"OR\"\n",
        "c=\"YA\"\n",
        "print(a+b+c)"
      ],
      "metadata": {
        "colab": {
          "base_uri": "https://localhost:8080/"
        },
        "id": "-nRts4YGpGkz",
        "outputId": "69f6c132-ef9e-4472-c4f8-f56a9f57d984"
      },
      "execution_count": 1,
      "outputs": [
        {
          "output_type": "stream",
          "name": "stdout",
          "text": [
            "SHORYA\n"
          ]
        }
      ]
    },
    {
      "cell_type": "code",
      "source": [
        "#4.1: WAP to print the table of 7, 9\n",
        "\n",
        "a=int(input(\"enter the number:\"))  # we can input 7 and 9 respectively\n",
        "for i in range(1,11,1):\n",
        "  print(i*a)"
      ],
      "metadata": {
        "colab": {
          "base_uri": "https://localhost:8080/"
        },
        "id": "nhlrNhR5pM4v",
        "outputId": "18c4c1db-2f00-40e1-a0e9-8caf79cb351c"
      },
      "execution_count": 5,
      "outputs": [
        {
          "output_type": "stream",
          "name": "stdout",
          "text": [
            "enter the number:7\n",
            "7\n",
            "14\n",
            "21\n",
            "28\n",
            "35\n",
            "42\n",
            "49\n",
            "56\n",
            "63\n",
            "70\n"
          ]
        }
      ]
    },
    {
      "cell_type": "code",
      "source": [
        "#4.2: WAP to print the table of n and n is given by user.\n",
        "\n",
        "n=int(input(\"enter the number:\"))\n",
        "for i in range(1,11,1):\n",
        "  print(i*n)"
      ],
      "metadata": {
        "colab": {
          "base_uri": "https://localhost:8080/"
        },
        "id": "PS341ZiipXuL",
        "outputId": "4875f0a1-db01-43e7-916a-04f8e53f197f"
      },
      "execution_count": 7,
      "outputs": [
        {
          "output_type": "stream",
          "name": "stdout",
          "text": [
            "enter the number:3\n",
            "3\n",
            "6\n",
            "9\n",
            "12\n",
            "15\n",
            "18\n",
            "21\n",
            "24\n",
            "27\n",
            "30\n"
          ]
        }
      ]
    },
    {
      "cell_type": "code",
      "source": [
        "\n",
        "#4.3: WAP to add all the numbers from 1 to n and n is given by user.\n",
        "\n",
        "n=int(input(\"enter the number:\"))\n",
        "sum=0\n",
        "while n>0:\n",
        "  sum=sum+n\n",
        "  n=n-1\n",
        "print(sum)"
      ],
      "metadata": {
        "colab": {
          "base_uri": "https://localhost:8080/"
        },
        "id": "YGJGq6aWpjFm",
        "outputId": "6b7e29c2-3fd5-40da-c092-31975cb2e374"
      },
      "execution_count": 8,
      "outputs": [
        {
          "output_type": "stream",
          "name": "stdout",
          "text": [
            "enter the number:4\n",
            "10\n"
          ]
        }
      ]
    },
    {
      "cell_type": "code",
      "source": [
        "#5.1: WAP to find max amoung three numbers and input from user. [Try max() function]\n",
        "\n",
        "a=int(input(\"enter the first number:\"))\n",
        "b=int(input(\"enter the second number:\"))\n",
        "c=int(input(\"enter the third number:\"))\n",
        "print(max(a,b,c))\n"
      ],
      "metadata": {
        "colab": {
          "base_uri": "https://localhost:8080/"
        },
        "id": "Nh5VC_TJpm6i",
        "outputId": "14892994-7d41-4c8e-e986-419a284e25e6"
      },
      "execution_count": 11,
      "outputs": [
        {
          "output_type": "stream",
          "name": "stdout",
          "text": [
            "enter the first number:3\n",
            "enter the second number:4\n",
            "enter the third number:5\n",
            "5\n"
          ]
        }
      ]
    },
    {
      "cell_type": "code",
      "source": [
        "\n",
        "#5.2: WAP to add all numbers divisible by 7 and 9 from 1 to n and n is given by the user.\n",
        "\n",
        "n=int(input(\"enter the number:\"))\n",
        "sum=0\n",
        "for i in range(1,n+1):\n",
        "  if(i%7==0 and i%9==0):\n",
        "    sum=sum+i\n",
        "\n",
        "print(sum)\n"
      ],
      "metadata": {
        "colab": {
          "base_uri": "https://localhost:8080/"
        },
        "id": "LlyTPM6bppsU",
        "outputId": "e71651b5-1386-4e50-d32a-415f03f1d6a4"
      },
      "execution_count": 12,
      "outputs": [
        {
          "output_type": "stream",
          "name": "stdout",
          "text": [
            "enter the number:5\n",
            "0\n"
          ]
        }
      ]
    },
    {
      "cell_type": "code",
      "source": [
        "#5.3: WAP to add all prime numbers from 1 to n and n is given by the user.\n",
        "\n",
        "\n",
        "n=int(input(\"enter the number:\"))\n",
        "sum=0\n",
        "for i in range(2,n+1): #because 1 is not a prime number\n",
        "  flag=0\n",
        "  for j in range(2,int((i/2)+1)):\n",
        "    if(i%j==0):\n",
        "      flag=1\n",
        "      break\n",
        "\n",
        "  if(flag==0):\n",
        "      sum=sum+i\n",
        "\n",
        "\n",
        "print(sum)\n",
        ""
      ],
      "metadata": {
        "colab": {
          "base_uri": "https://localhost:8080/"
        },
        "id": "TS32zIxDp7jj",
        "outputId": "5cce422d-b54d-458d-fdc5-13ad626db81e"
      },
      "execution_count": 13,
      "outputs": [
        {
          "output_type": "stream",
          "name": "stdout",
          "text": [
            "enter the number:5\n",
            "10\n"
          ]
        }
      ]
    },
    {
      "cell_type": "code",
      "source": [
        "# 6.1\n",
        "\n",
        "def is_prime(num):\n",
        "    if num < 2:\n",
        "        return False\n",
        "    for i in range(2, int(num**0.5) + 1):  # Check divisibility up to sqrt(num)\n",
        "        if num % i == 0:\n",
        "            return False\n",
        "    return True\n",
        "\n",
        "\n",
        "def sum_prime_numbers(n):\n",
        "    total_sum = 0\n",
        "    for i in range(2, n + 1):  # Start at 2 because 1 is not prime\n",
        "        if is_prime(i):\n",
        "            total_sum += i\n",
        "    return total_sum\n",
        "\n",
        "\n",
        "n = int(input(\"Enter the value of n: \"))\n",
        "\n",
        "\n",
        "result = sum_prime_numbers(n)\n",
        "print(\"The sum of all prime numbers from 1 to\", n, \"is:\", result)\n"
      ],
      "metadata": {
        "colab": {
          "base_uri": "https://localhost:8080/"
        },
        "id": "8dyfXEgvqAot",
        "outputId": "85757a92-c002-4875-b735-379f95d3ebc3"
      },
      "execution_count": 14,
      "outputs": [
        {
          "output_type": "stream",
          "name": "stdout",
          "text": [
            "Enter the value of n: 4\n",
            "The sum of all prime numbers from 1 to 4 is: 5\n"
          ]
        }
      ]
    },
    {
      "cell_type": "code",
      "source": [
        "6.2# Function to add all odd numbers from 1 to n\n",
        "def sum_odd_numbers(n):\n",
        "    total_sum = 0\n",
        "    for i in range(1, n + 1, 2):  # Start at 1, step by 2 to get only odd numbers\n",
        "        total_sum += i\n",
        "    return total_sum\n",
        "\n",
        "\n",
        "n = int(input(\"Enter the value of n: \"))\n",
        "\n",
        "\n",
        "result = sum_odd_numbers(n)\n",
        "print(\"The sum of all odd numbers from 1 to\", n, \"is:\", result)"
      ],
      "metadata": {
        "colab": {
          "base_uri": "https://localhost:8080/"
        },
        "id": "uRy8euDyqEUz",
        "outputId": "9c5c145d-f318-4bbe-cb97-e9089f7fe66c"
      },
      "execution_count": 15,
      "outputs": [
        {
          "output_type": "stream",
          "name": "stdout",
          "text": [
            "Enter the value of n: 7\n",
            "The sum of all odd numbers from 1 to 7 is: 16\n"
          ]
        }
      ]
    },
    {
      "cell_type": "code",
      "source": [],
      "metadata": {
        "id": "5VYEHLtoqnNU"
      },
      "execution_count": 4,
      "outputs": []
    }
  ]
}